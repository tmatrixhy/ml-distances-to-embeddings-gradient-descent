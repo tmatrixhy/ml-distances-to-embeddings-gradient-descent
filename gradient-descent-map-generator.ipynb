{
 "cells": [
  {
   "cell_type": "code",
   "execution_count": 6,
   "metadata": {},
   "outputs": [],
   "source": [
    "# tmatrixhy\n",
    "\n",
    "import pandas as pd\n",
    "import numpy as np\n",
    "import matplotlib.pyplot as plt\n",
    "\n",
    "#from piazza\n",
    "D = [[0,206,429,1504,963,2976,3095,2979,1949],\n",
    "      [206,0,233,1308,802,2815,2934,2786,1771],\n",
    "      [429,233,0,1075,671,2684,2799,2631,1616],\n",
    "      [1504,1308,1075,0,1329,3273,3053,2687,2037],\n",
    "      [963,802,671,1329,0,2013,2142,2054,996],\n",
    "      [2976,2815,2684,3273,2013,0,808,1131,1307],\n",
    "      [3095,2934,2799,3053,2142,808,0,379,1235],\n",
    "      [2979,2786,2631,2687,2054,1131,379,0,1059],\n",
    "      [1949,1771,1616,2037,996,1307,1235,1059,0]]\n",
    "\n",
    "D = pd.DataFrame(D)"
   ]
  },
  {
   "cell_type": "code",
   "execution_count": 9,
   "metadata": {},
   "outputs": [],
   "source": [
    "cities=['BOS','NYC','DC','MIA','CHI','SEA','SF','LA','DEN']\n",
    "X = []\n",
    "\n",
    "#initialize all lat / long with random number\n",
    "#change random number higher or lower for different results\n",
    "for z in cities:\n",
    "    X.append([np.random.randint(3500),np.random.randint(3500)])\n",
    "\n",
    "X = np.asarray(X).astype(float)\n",
    "\n",
    "\n",
    "#the functions below were derived from examples in the lecture slides below:\n",
    "#http://www.ds100.org/fa18/assets/lectures/lec09/09-modeling-and-estimation-II.pptx\n",
    "\n",
    "def objective_derivative(X,i,D):\n",
    "    #coded version of #1 \n",
    "    summation = np.zeros([1, 2])\n",
    "    for j in range(len(cities)):\n",
    "        if i!=j:\n",
    "            distance = np.linalg.norm(X[i] - X[j])\n",
    "            summation+= ((distance - D[i][j]) / distance) * (X[i] - X[j])\n",
    "    return summation\n",
    "\n",
    "def gradient(X, D, alpha):\n",
    "    grad = np.zeros((len(cities),2))\n",
    "    grad.astype(float)\n",
    "    for i in range(len(cities)):\n",
    "        #for each city calculate the gradient and take a step in that direction\n",
    "        grad[i] = (alpha * objective_derivative(X,i,D))\n",
    "    X -= grad\n",
    "\n",
    "#specify alpha for gradient descent here\n",
    "alpha = 0.2\n",
    "\n",
    "for i in range(2000):    \n",
    "    gradient(X,D, alpha)"
   ]
  },
  {
   "cell_type": "code",
   "execution_count": 10,
   "metadata": {},
   "outputs": [
    {
     "data": {
      "image/png": "[encoded data removed]",
      "text/plain": [
       "<Figure size 432x288 with 1 Axes>"
      ]
     },
     "metadata": {
      "needs_background": "light"
     },
     "output_type": "display_data"
    }
   ],
   "source": [
    "#Plot Map.\n",
    "x,y = X.T #splits x,y (lat/long) component for plot\n",
    "colors = \"rgbymcgrk\"\n",
    "col_idx = 0\n",
    "\n",
    "fig, ax = plt.subplots()\n",
    "\n",
    "for x_i, y_i, city in zip(x,y,cities):\n",
    "    if col_idx % 2 == 0:\n",
    "        ax.scatter(x_i,y_i,c=colors[col_idx],marker='o',label=city)\n",
    "    else:\n",
    "        ax.scatter(x_i,y_i,c=colors[col_idx],marker='x',label=city)\n",
    "    col_idx+=1\n",
    "\n",
    "fig.suptitle('USA Cities')\n",
    "plt.legend(loc='center left', bbox_to_anchor=(1, 0.5))\n",
    "plt.show()"
   ]
  },
  {
   "cell_type": "code",
   "execution_count": null,
   "metadata": {},
   "outputs": [],
   "source": []
  }
 ],
 "metadata": {
  "kernelspec": {
   "display_name": "Python 3",
   "language": "python",
   "name": "python3"
  },
  "language_info": {
   "codemirror_mode": {
    "name": "ipython",
    "version": 3
   },
   "file_extension": ".py",
   "mimetype": "text/x-python",
   "name": "python",
   "nbconvert_exporter": "python",
   "pygments_lexer": "ipython3",
   "version": "3.7.3"
  }
 },
 "nbformat": 4,
 "nbformat_minor": 2
}
